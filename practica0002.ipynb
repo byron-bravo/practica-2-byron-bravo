{
 "cells": [
  {
   "cell_type": "code",
   "execution_count": 12,
   "id": "28845814",
   "metadata": {},
   "outputs": [],
   "source": [
    "# Cargar librerías\n",
    "import pandas as pd\n",
    "import numpy as np\n",
    "from sklearn.linear_model import LogisticRegression\n",
    "from sklearn.preprocessing import StandardScaler\n",
    "from sklearn.pipeline import Pipeline\n",
    "from sklearn.model_selection import train_test_split\n",
    "from sklearn.metrics import accuracy_score, precision_score\n",
    "import mlflow\n",
    "import mlflow.sklearn\n"
   ]
  },
  {
   "cell_type": "code",
   "execution_count": 13,
   "id": "da619e05",
   "metadata": {},
   "outputs": [],
   "source": [
    "# Leer datos\n",
    "df = pd.read_csv(\"data/diabetes.csv\")\n",
    "\n"
   ]
  },
  {
   "cell_type": "code",
   "execution_count": 14,
   "id": "f287d4ff-786f-400c-acbd-06af393ea280",
   "metadata": {},
   "outputs": [
    {
     "data": {
      "text/plain": [
       "Pregnancies                 111\n",
       "Glucose                       5\n",
       "BloodPressure                35\n",
       "SkinThickness               227\n",
       "Insulin                     374\n",
       "BMI                          11\n",
       "DiabetesPedigreeFunction      0\n",
       "Age                           0\n",
       "Outcome                     500\n",
       "dtype: int64"
      ]
     },
     "execution_count": 14,
     "metadata": {},
     "output_type": "execute_result"
    }
   ],
   "source": [
    "# identifica las columnas que tiene valores 0\n",
    "(df==0).sum()"
   ]
  },
  {
   "cell_type": "code",
   "execution_count": 15,
   "id": "9d063202-3384-456c-8bbf-924911f25144",
   "metadata": {},
   "outputs": [],
   "source": [
    "# Reemplazar ceros en columnas específicas por NaN\n",
    "cols_to_clean = ['Glucose', 'BloodPressure', 'SkinThickness', 'Insulin']\n",
    "# No se consideran algunas, por ejemplo Pregnancies (por qué si es posible que se tengan cero embarazos)\n",
    "\n",
    "# Reemplazar ceros por NaN para poder tratarlos como datos faltantes\n",
    "for col in cols_to_clean:\n",
    "    df[col] = df[col].replace(0, np.nan)\n",
    "\n",
    "# Reemplazar NaN con la moda (valor más frecuente) de cada columna\n",
    "for col in cols_to_clean:\n",
    "    moda = df[col].mode() # buscar el método más común para determinar la moda de una columna\n",
    "    df[col] = df[col].fillna(moda[0])\n"
   ]
  },
  {
   "cell_type": "code",
   "execution_count": 16,
   "id": "4be9af71",
   "metadata": {},
   "outputs": [],
   "source": [
    "# Separar datos\n",
    "X = df.drop(\"Outcome\", axis=1)\n",
    "y = df[\"Outcome\"]\n",
    "\n",
    "X_train, X_test, y_train, y_test = train_test_split(X, y, test_size=0.2, random_state=42)\n"
   ]
  },
  {
   "cell_type": "code",
   "execution_count": 17,
   "id": "ee6500fe-a589-4021-a1b0-68d0f1f742c7",
   "metadata": {},
   "outputs": [
    {
     "data": {
      "text/plain": [
       "<Experiment: artifact_location='mlflow-artifacts:/1', creation_time=1747891161949, experiment_id='1', last_update_time=1747891161949, lifecycle_stage='active', name='ClasificadorDemoDiabetes', tags={}>"
      ]
     },
     "execution_count": 17,
     "metadata": {},
     "output_type": "execute_result"
    }
   ],
   "source": [
    "# agregar el traking uri de mlflow\n",
    "mlflow.set_tracking_uri(\"http://127.0.0.1:9090\")\n",
    "\n",
    "# agregar set_experiment con nombre: ClasificadorDemoDiabetes\n",
    "mlflow.set_experiment(\"ClasificadorDemoDiabetes\")\n"
   ]
  },
  {
   "cell_type": "code",
   "execution_count": 18,
   "id": "a6a4039d-87b0-4655-9ed8-93faa9179af8",
   "metadata": {},
   "outputs": [
    {
     "name": "stdout",
     "output_type": "stream",
     "text": [
      "   logreg_C  logreg_max_iter     solver penalty\n",
      "0      0.01              400  liblinear      l2\n",
      "1      1.12              300      lbfgs      l2\n",
      "2      2.23              500  liblinear      l2\n",
      "3      3.34              200  liblinear      l2\n",
      "4      4.45              300  liblinear      l2\n",
      "5      5.56              500      lbfgs      l2\n",
      "6      6.67              300      lbfgs      l2\n",
      "7      7.78              500      lbfgs      l2\n",
      "8      8.89              400      lbfgs      l2\n",
      "9     10.00              200      lbfgs      l2\n"
     ]
    }
   ],
   "source": [
    "data2 = pd.read_csv(\"data/logreg_variaciones_educativas.csv\")\n",
    "parametros = data2[[\"logreg_C\", \"logreg_max_iter\", \"solver\", \"penalty\"]]\n",
    "print(parametros)"
   ]
  },
  {
   "cell_type": "code",
   "execution_count": 24,
   "id": "c5784cd6",
   "metadata": {},
   "outputs": [],
   "source": [
    "# Entrenamiento y registro con MLflow\n",
    "C = 1.0\n",
    "max_iter = 1000\n",
    "# usar los parámetros del archivo logreg_variaciones_educativas.csv\n",
    "# para los parámtros C, max_iter, solver y penalty de LogisticRegresion\n",
    "# se debe genear un run por cada fila del archivo, usando sus parámetros\n",
    "# Analizar que usar\n",
    "# El pipeline usar StandarScaler para que todos los valore numéricos estén en la misma escala\n",
    "    # no cambiar dicha línea\n",
    "    # LogisticRegresion deben variar sus parámetros en cada iteración."
   ]
  },
  {
   "cell_type": "code",
   "execution_count": 25,
   "id": "be724744-d40e-46cf-a13f-4a7172964d23",
   "metadata": {},
   "outputs": [
    {
     "name": "stdout",
     "output_type": "stream",
     "text": [
      "🏃 View run gentle-shrike-960 at: http://127.0.0.1:9090/#/experiments/1/runs/a97d788479a7446d8a1ea45bdd895472\n",
      "🧪 View experiment at: http://127.0.0.1:9090/#/experiments/1\n"
     ]
    },
    {
     "name": "stderr",
     "output_type": "stream",
     "text": [
      "2025/05/24 10:39:33 WARNING mlflow.models.model: Model logged without a signature and input example. Please set `input_example` parameter when logging the model to auto infer the model signature.\n"
     ]
    },
    {
     "name": "stdout",
     "output_type": "stream",
     "text": [
      "✅ Run 1 completado: Accuracy=0.7208 | Precision=0.6034\n",
      "🏃 View run LR_Run_Practica_0_Byron_Bravo_1 at: http://127.0.0.1:9090/#/experiments/1/runs/34c22570c2dc4b8891ecb4daf7bbb22c\n",
      "🧪 View experiment at: http://127.0.0.1:9090/#/experiments/1\n"
     ]
    },
    {
     "name": "stderr",
     "output_type": "stream",
     "text": [
      "2025/05/24 10:39:36 WARNING mlflow.models.model: Model logged without a signature and input example. Please set `input_example` parameter when logging the model to auto infer the model signature.\n"
     ]
    },
    {
     "name": "stdout",
     "output_type": "stream",
     "text": [
      "✅ Run 2 completado: Accuracy=0.7532 | Precision=0.6667\n",
      "🏃 View run LR_Run_Practica_0_Byron_Bravo_2 at: http://127.0.0.1:9090/#/experiments/1/runs/931fef0389914aae907c10023bd9a30c\n",
      "🧪 View experiment at: http://127.0.0.1:9090/#/experiments/1\n"
     ]
    },
    {
     "name": "stderr",
     "output_type": "stream",
     "text": [
      "2025/05/24 10:39:39 WARNING mlflow.models.model: Model logged without a signature and input example. Please set `input_example` parameter when logging the model to auto infer the model signature.\n"
     ]
    },
    {
     "name": "stdout",
     "output_type": "stream",
     "text": [
      "✅ Run 3 completado: Accuracy=0.7532 | Precision=0.6667\n",
      "🏃 View run LR_Run_Practica_0_Byron_Bravo_3 at: http://127.0.0.1:9090/#/experiments/1/runs/c2c6edb51dd147aeb7e07eefc9e1c41b\n",
      "🧪 View experiment at: http://127.0.0.1:9090/#/experiments/1\n"
     ]
    },
    {
     "name": "stderr",
     "output_type": "stream",
     "text": [
      "2025/05/24 10:39:41 WARNING mlflow.models.model: Model logged without a signature and input example. Please set `input_example` parameter when logging the model to auto infer the model signature.\n"
     ]
    },
    {
     "name": "stdout",
     "output_type": "stream",
     "text": [
      "✅ Run 4 completado: Accuracy=0.7532 | Precision=0.6667\n",
      "🏃 View run LR_Run_Practica_0_Byron_Bravo_4 at: http://127.0.0.1:9090/#/experiments/1/runs/cc74e19c4ef84eb8ba747e8a640a5a78\n",
      "🧪 View experiment at: http://127.0.0.1:9090/#/experiments/1\n"
     ]
    },
    {
     "name": "stderr",
     "output_type": "stream",
     "text": [
      "2025/05/24 10:39:44 WARNING mlflow.models.model: Model logged without a signature and input example. Please set `input_example` parameter when logging the model to auto infer the model signature.\n"
     ]
    },
    {
     "name": "stdout",
     "output_type": "stream",
     "text": [
      "✅ Run 5 completado: Accuracy=0.7532 | Precision=0.6667\n",
      "🏃 View run LR_Run_Practica_0_Byron_Bravo_5 at: http://127.0.0.1:9090/#/experiments/1/runs/2b519899a32048d79d079dec2a01ebc7\n",
      "🧪 View experiment at: http://127.0.0.1:9090/#/experiments/1\n"
     ]
    },
    {
     "name": "stderr",
     "output_type": "stream",
     "text": [
      "2025/05/24 10:39:47 WARNING mlflow.models.model: Model logged without a signature and input example. Please set `input_example` parameter when logging the model to auto infer the model signature.\n"
     ]
    },
    {
     "name": "stdout",
     "output_type": "stream",
     "text": [
      "✅ Run 6 completado: Accuracy=0.7532 | Precision=0.6667\n",
      "🏃 View run LR_Run_Practica_0_Byron_Bravo_6 at: http://127.0.0.1:9090/#/experiments/1/runs/fb9c0e94a3d340b8bab092a3993df02c\n",
      "🧪 View experiment at: http://127.0.0.1:9090/#/experiments/1\n"
     ]
    },
    {
     "name": "stderr",
     "output_type": "stream",
     "text": [
      "2025/05/24 10:39:49 WARNING mlflow.models.model: Model logged without a signature and input example. Please set `input_example` parameter when logging the model to auto infer the model signature.\n"
     ]
    },
    {
     "name": "stdout",
     "output_type": "stream",
     "text": [
      "✅ Run 7 completado: Accuracy=0.7532 | Precision=0.6667\n",
      "🏃 View run LR_Run_Practica_0_Byron_Bravo_7 at: http://127.0.0.1:9090/#/experiments/1/runs/fa8b05c171e445e18c57432d6f235adc\n",
      "🧪 View experiment at: http://127.0.0.1:9090/#/experiments/1\n"
     ]
    },
    {
     "name": "stderr",
     "output_type": "stream",
     "text": [
      "2025/05/24 10:39:52 WARNING mlflow.models.model: Model logged without a signature and input example. Please set `input_example` parameter when logging the model to auto infer the model signature.\n"
     ]
    },
    {
     "name": "stdout",
     "output_type": "stream",
     "text": [
      "✅ Run 8 completado: Accuracy=0.7532 | Precision=0.6667\n",
      "🏃 View run LR_Run_Practica_0_Byron_Bravo_8 at: http://127.0.0.1:9090/#/experiments/1/runs/2add935e24bb4f87954ca45b594613d7\n",
      "🧪 View experiment at: http://127.0.0.1:9090/#/experiments/1\n"
     ]
    },
    {
     "name": "stderr",
     "output_type": "stream",
     "text": [
      "2025/05/24 10:39:55 WARNING mlflow.models.model: Model logged without a signature and input example. Please set `input_example` parameter when logging the model to auto infer the model signature.\n"
     ]
    },
    {
     "name": "stdout",
     "output_type": "stream",
     "text": [
      "✅ Run 9 completado: Accuracy=0.7532 | Precision=0.6667\n",
      "🏃 View run LR_Run_Practica_0_Byron_Bravo_9 at: http://127.0.0.1:9090/#/experiments/1/runs/e338fac14d434e3d9c9d80d04d09b75e\n",
      "🧪 View experiment at: http://127.0.0.1:9090/#/experiments/1\n"
     ]
    },
    {
     "name": "stderr",
     "output_type": "stream",
     "text": [
      "2025/05/24 10:39:57 WARNING mlflow.models.model: Model logged without a signature and input example. Please set `input_example` parameter when logging the model to auto infer the model signature.\n"
     ]
    },
    {
     "name": "stdout",
     "output_type": "stream",
     "text": [
      "✅ Run 10 completado: Accuracy=0.7532 | Precision=0.6667\n",
      "🏃 View run LR_Run_Practica_0_Byron_Bravo_10 at: http://127.0.0.1:9090/#/experiments/1/runs/f5366bff17664034a6e0f5fe1878718e\n",
      "🧪 View experiment at: http://127.0.0.1:9090/#/experiments/1\n"
     ]
    }
   ],
   "source": [
    "# Cerrar cualquier run activo antes de iniciar\n",
    "if mlflow.active_run():\n",
    "    mlflow.end_run()\n",
    "\n",
    "for idx, row in data2.iterrows():\n",
    "    with mlflow.start_run(run_name=f\"LR_Run_Practica_0_Byron_Bravo_{idx+1}\"):\n",
    "        # Crear pipeline con parámetros de la fila\n",
    "        pipeline = Pipeline([\n",
    "            (\"scaler\", StandardScaler()),\n",
    "            (\"clf\", LogisticRegression(\n",
    "                C=row[\"logreg_C\"],\n",
    "                max_iter=int(row[\"logreg_max_iter\"]),\n",
    "                solver=row[\"solver\"],\n",
    "                penalty=row[\"penalty\"]\n",
    "            ))\n",
    "        ])\n",
    "\n",
    "        # Entrenar\n",
    "        pipeline.fit(X_train, y_train)\n",
    "        y_pred = pipeline.predict(X_test)\n",
    "\n",
    "        # Métricas\n",
    "        acc = accuracy_score(y_test, y_pred)\n",
    "        prec = precision_score(y_test, y_pred)\n",
    "\n",
    "        # Log de parámetros y métricas\n",
    "        mlflow.log_param(\"logreg_C\", row[\"logreg_C\"])\n",
    "        mlflow.log_param(\"logreg_max_iter\", row[\"logreg_max_iter\"])\n",
    "        mlflow.log_param(\"solver\", row[\"solver\"])\n",
    "        mlflow.log_param(\"penalty\", row[\"penalty\"])\n",
    "        mlflow.log_metric(\"accuracy\", acc)\n",
    "        mlflow.log_metric(\"precision\", prec)\n",
    "\n",
    "        # Guardar el modelo\n",
    "        mlflow.sklearn.log_model(pipeline, \"modelo_pipeline\")\n",
    "\n",
    "        print(f\"✅ Run {idx+1} completado: Accuracy={acc:.4f} | Precision={prec:.4f}\")\n"
   ]
  },
  {
   "cell_type": "code",
   "execution_count": null,
   "id": "06c9eb27-a3f2-4e14-b2bc-e308fc71514b",
   "metadata": {},
   "outputs": [],
   "source": []
  }
 ],
 "metadata": {
  "kernelspec": {
   "display_name": "Python 3 (ipykernel)",
   "language": "python",
   "name": "python3"
  },
  "language_info": {
   "codemirror_mode": {
    "name": "ipython",
    "version": 3
   },
   "file_extension": ".py",
   "mimetype": "text/x-python",
   "name": "python",
   "nbconvert_exporter": "python",
   "pygments_lexer": "ipython3",
   "version": "3.12.10"
  }
 },
 "nbformat": 4,
 "nbformat_minor": 5
}
